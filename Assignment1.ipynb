{
 "cells": [
  {
   "cell_type": "code",
   "execution_count": 1,
   "id": "9a14dbce-0364-440e-808b-407da89e79e1",
   "metadata": {},
   "outputs": [],
   "source": [
    "s=\"saurabh\""
   ]
  },
  {
   "cell_type": "code",
   "execution_count": 2,
   "id": "aa119b66-9aae-401f-a7af-85a2bf448014",
   "metadata": {
    "tags": []
   },
   "outputs": [
    {
     "data": {
      "text/plain": [
       "str"
      ]
     },
     "execution_count": 2,
     "metadata": {},
     "output_type": "execute_result"
    }
   ],
   "source": [
    "type(s)"
   ]
  },
  {
   "cell_type": "code",
   "execution_count": 3,
   "id": "8ead6ce3-b2d9-4005-a649-a4bc2e3cd023",
   "metadata": {
    "tags": []
   },
   "outputs": [],
   "source": [
    "l=[1,2,34,'kiwi',True,3+3j]"
   ]
  },
  {
   "cell_type": "code",
   "execution_count": 4,
   "id": "2e1a4f1f-b076-4331-8953-1ecb94091716",
   "metadata": {
    "tags": []
   },
   "outputs": [
    {
     "data": {
      "text/plain": [
       "list"
      ]
     },
     "execution_count": 4,
     "metadata": {},
     "output_type": "execute_result"
    }
   ],
   "source": [
    "type(l)"
   ]
  },
  {
   "cell_type": "code",
   "execution_count": 5,
   "id": "0c90e3d9-3f94-4c99-9b35-fd16ed885575",
   "metadata": {
    "tags": []
   },
   "outputs": [],
   "source": [
    "f=23.43"
   ]
  },
  {
   "cell_type": "code",
   "execution_count": 6,
   "id": "b6cc4415-6445-4300-b3b0-ee69dc908c06",
   "metadata": {
    "tags": []
   },
   "outputs": [
    {
     "data": {
      "text/plain": [
       "float"
      ]
     },
     "execution_count": 6,
     "metadata": {},
     "output_type": "execute_result"
    }
   ],
   "source": [
    "type(f)"
   ]
  },
  {
   "cell_type": "code",
   "execution_count": 7,
   "id": "25d7b7cb-0dc6-4efd-b2df-62d427e7626c",
   "metadata": {
    "tags": []
   },
   "outputs": [],
   "source": [
    "t=(343,545,\"saurabh\",)"
   ]
  },
  {
   "cell_type": "code",
   "execution_count": 8,
   "id": "20185f38-5565-4e1e-bf3b-85df923e5df8",
   "metadata": {
    "tags": []
   },
   "outputs": [
    {
     "data": {
      "text/plain": [
       "tuple"
      ]
     },
     "execution_count": 8,
     "metadata": {},
     "output_type": "execute_result"
    }
   ],
   "source": [
    "type(t)"
   ]
  },
  {
   "cell_type": "code",
   "execution_count": 15,
   "id": "73f45fd8-c278-40cd-aed1-2a42dc19e9bf",
   "metadata": {
    "tags": []
   },
   "outputs": [],
   "source": [
    "##(2) \n",
    "# (2)zero\n",
    "#(2)one\n",
    "#(3)three \n",
    "#(4) two"
   ]
  },
  {
   "cell_type": "markdown",
   "id": "92516df9-70d8-4eaa-914b-db40e2162219",
   "metadata": {},
   "source": [
    "##(3)\n"
   ]
  },
  {
   "cell_type": "code",
   "execution_count": 17,
   "id": "3413c69d-0372-4c03-8102-bc43d2969a50",
   "metadata": {
    "tags": []
   },
   "outputs": [
    {
     "data": {
      "text/plain": [
       "8.0"
      ]
     },
     "execution_count": 17,
     "metadata": {},
     "output_type": "execute_result"
    }
   ],
   "source": [
    "#division operator \n",
    "40/5"
   ]
  },
  {
   "cell_type": "code",
   "execution_count": 18,
   "id": "0a320dba-b33a-44f7-a0ce-c46f80e8aa8e",
   "metadata": {
    "tags": []
   },
   "outputs": [
    {
     "data": {
      "text/plain": [
       "3"
      ]
     },
     "execution_count": 18,
     "metadata": {},
     "output_type": "execute_result"
    }
   ],
   "source": [
    "# reminder operator \n",
    "15%4"
   ]
  },
  {
   "cell_type": "code",
   "execution_count": 19,
   "id": "43c43d1f-05e8-4ff9-a490-5147bea8b533",
   "metadata": {
    "tags": []
   },
   "outputs": [
    {
     "data": {
      "text/plain": [
       "6"
      ]
     },
     "execution_count": 19,
     "metadata": {},
     "output_type": "execute_result"
    }
   ],
   "source": [
    "#divesion flow function \n",
    "20//3"
   ]
  },
  {
   "cell_type": "code",
   "execution_count": 20,
   "id": "fe174ae1-f1c3-4a33-8039-a00822cc9c4c",
   "metadata": {
    "tags": []
   },
   "outputs": [
    {
     "data": {
      "text/plain": [
       "9"
      ]
     },
     "execution_count": 20,
     "metadata": {},
     "output_type": "execute_result"
    }
   ],
   "source": [
    "#power operator \n",
    "3**2"
   ]
  },
  {
   "cell_type": "code",
   "execution_count": 22,
   "id": "cf8cff73-32d0-4f86-bae1-178db173d2da",
   "metadata": {
    "tags": []
   },
   "outputs": [],
   "source": [
    "l=[12,344,4,'saurabh','lavkush',True,213.34,False,23+43j,(23.24)]"
   ]
  },
  {
   "cell_type": "code",
   "execution_count": 23,
   "id": "95be99d2-34bb-442c-a65b-54498ab86b0f",
   "metadata": {
    "tags": []
   },
   "outputs": [
    {
     "data": {
      "text/plain": [
       "list"
      ]
     },
     "execution_count": 23,
     "metadata": {},
     "output_type": "execute_result"
    }
   ],
   "source": [
    "type(l)"
   ]
  },
  {
   "cell_type": "code",
   "execution_count": 25,
   "id": "03803b57-5a86-490a-98d8-c5a36492e313",
   "metadata": {
    "tags": []
   },
   "outputs": [
    {
     "name": "stdout",
     "output_type": "stream",
     "text": [
      "12\n"
     ]
    }
   ],
   "source": [
    "print(l[0])"
   ]
  },
  {
   "cell_type": "code",
   "execution_count": 26,
   "id": "225b50f5-9d45-47d5-b211-218660ce51c6",
   "metadata": {
    "tags": []
   },
   "outputs": [
    {
     "data": {
      "text/plain": [
       "int"
      ]
     },
     "execution_count": 26,
     "metadata": {},
     "output_type": "execute_result"
    }
   ],
   "source": [
    "type(l[0])"
   ]
  },
  {
   "cell_type": "code",
   "execution_count": 27,
   "id": "d310479a-61b1-44bd-a4a4-3ace948c220f",
   "metadata": {
    "tags": []
   },
   "outputs": [
    {
     "name": "stdout",
     "output_type": "stream",
     "text": [
      "344\n"
     ]
    }
   ],
   "source": [
    "print(l[1])"
   ]
  },
  {
   "cell_type": "code",
   "execution_count": 28,
   "id": "8b25bc5f-6b10-4834-9637-512dcc25736b",
   "metadata": {
    "tags": []
   },
   "outputs": [
    {
     "data": {
      "text/plain": [
       "int"
      ]
     },
     "execution_count": 28,
     "metadata": {},
     "output_type": "execute_result"
    }
   ],
   "source": [
    "type(l[1])"
   ]
  },
  {
   "cell_type": "code",
   "execution_count": 29,
   "id": "8e78c9ab-5738-4d4b-84ec-b39f6990c1b6",
   "metadata": {
    "tags": []
   },
   "outputs": [
    {
     "name": "stdout",
     "output_type": "stream",
     "text": [
      "4\n"
     ]
    }
   ],
   "source": [
    "print(l[2])"
   ]
  },
  {
   "cell_type": "code",
   "execution_count": 30,
   "id": "e6146541-9d8e-4e51-b990-0f9c8cb0fd4c",
   "metadata": {
    "tags": []
   },
   "outputs": [
    {
     "data": {
      "text/plain": [
       "int"
      ]
     },
     "execution_count": 30,
     "metadata": {},
     "output_type": "execute_result"
    }
   ],
   "source": [
    "type(l[2])"
   ]
  },
  {
   "cell_type": "code",
   "execution_count": 32,
   "id": "497a4688-5749-45c8-ab2d-e8030818b654",
   "metadata": {
    "tags": []
   },
   "outputs": [
    {
     "name": "stdout",
     "output_type": "stream",
     "text": [
      "saurabh\n"
     ]
    }
   ],
   "source": [
    "print(l[3])"
   ]
  },
  {
   "cell_type": "code",
   "execution_count": 33,
   "id": "92b2cf10-2ea0-4389-adc3-d5b034cbf406",
   "metadata": {
    "tags": []
   },
   "outputs": [
    {
     "data": {
      "text/plain": [
       "str"
      ]
     },
     "execution_count": 33,
     "metadata": {},
     "output_type": "execute_result"
    }
   ],
   "source": [
    "type(l[3])"
   ]
  },
  {
   "cell_type": "code",
   "execution_count": 34,
   "id": "d0519cfc-cf00-43ac-bc78-4b2c36eed8e9",
   "metadata": {
    "tags": []
   },
   "outputs": [
    {
     "name": "stdout",
     "output_type": "stream",
     "text": [
      "lavkush\n"
     ]
    }
   ],
   "source": [
    "print(l[4])"
   ]
  },
  {
   "cell_type": "code",
   "execution_count": 35,
   "id": "4aac528e-df4d-4a5e-87a2-10248269f8ad",
   "metadata": {
    "tags": []
   },
   "outputs": [
    {
     "data": {
      "text/plain": [
       "str"
      ]
     },
     "execution_count": 35,
     "metadata": {},
     "output_type": "execute_result"
    }
   ],
   "source": [
    "type(l[4])"
   ]
  },
  {
   "cell_type": "code",
   "execution_count": 36,
   "id": "20ded0ad-811e-431e-8dc1-b6722b13beba",
   "metadata": {
    "tags": []
   },
   "outputs": [
    {
     "name": "stdout",
     "output_type": "stream",
     "text": [
      "True\n"
     ]
    }
   ],
   "source": [
    "print(l[5])"
   ]
  },
  {
   "cell_type": "code",
   "execution_count": 37,
   "id": "101a17af-6699-4169-a8b1-631d07e0a887",
   "metadata": {
    "tags": []
   },
   "outputs": [
    {
     "data": {
      "text/plain": [
       "bool"
      ]
     },
     "execution_count": 37,
     "metadata": {},
     "output_type": "execute_result"
    }
   ],
   "source": [
    "type(l[5])"
   ]
  },
  {
   "cell_type": "code",
   "execution_count": 38,
   "id": "1e782ec2-cd01-4cde-8a54-016a4c731c0b",
   "metadata": {
    "tags": []
   },
   "outputs": [
    {
     "name": "stdout",
     "output_type": "stream",
     "text": [
      "213.34\n"
     ]
    }
   ],
   "source": [
    "print(l[6])"
   ]
  },
  {
   "cell_type": "code",
   "execution_count": 39,
   "id": "e8bc5165-afe4-4e80-b9f9-3594c5796039",
   "metadata": {
    "tags": []
   },
   "outputs": [
    {
     "data": {
      "text/plain": [
       "float"
      ]
     },
     "execution_count": 39,
     "metadata": {},
     "output_type": "execute_result"
    }
   ],
   "source": [
    "type(l[6])"
   ]
  },
  {
   "cell_type": "code",
   "execution_count": 40,
   "id": "fd9f7bbf-9a17-456e-b151-e2ac0e6cbf5b",
   "metadata": {
    "tags": []
   },
   "outputs": [
    {
     "name": "stdout",
     "output_type": "stream",
     "text": [
      "False\n"
     ]
    }
   ],
   "source": [
    "print(l[7])"
   ]
  },
  {
   "cell_type": "code",
   "execution_count": 41,
   "id": "02d76dd9-1e2e-41ca-911c-45b152c4c2d2",
   "metadata": {
    "tags": []
   },
   "outputs": [
    {
     "data": {
      "text/plain": [
       "bool"
      ]
     },
     "execution_count": 41,
     "metadata": {},
     "output_type": "execute_result"
    }
   ],
   "source": [
    "type(l[7])"
   ]
  },
  {
   "cell_type": "code",
   "execution_count": 42,
   "id": "2f0c627f-13f4-4ccd-94be-543a7b77de05",
   "metadata": {
    "tags": []
   },
   "outputs": [
    {
     "name": "stdout",
     "output_type": "stream",
     "text": [
      "(23+43j)\n"
     ]
    }
   ],
   "source": [
    "print(l[8])"
   ]
  },
  {
   "cell_type": "code",
   "execution_count": 43,
   "id": "24c10f81-4718-4fd5-9a1a-3e87541f5025",
   "metadata": {
    "tags": []
   },
   "outputs": [
    {
     "data": {
      "text/plain": [
       "complex"
      ]
     },
     "execution_count": 43,
     "metadata": {},
     "output_type": "execute_result"
    }
   ],
   "source": [
    "type(l[8])"
   ]
  },
  {
   "cell_type": "code",
   "execution_count": 44,
   "id": "07c5ccba-40c8-438b-a7fb-f0d53c7c411b",
   "metadata": {
    "tags": []
   },
   "outputs": [
    {
     "name": "stdout",
     "output_type": "stream",
     "text": [
      "23.24\n"
     ]
    }
   ],
   "source": [
    "print(l[9])"
   ]
  },
  {
   "cell_type": "code",
   "execution_count": 45,
   "id": "40dd6458-fd66-4a59-92a0-baec4b1bd01f",
   "metadata": {
    "tags": []
   },
   "outputs": [
    {
     "data": {
      "text/plain": [
       "float"
      ]
     },
     "execution_count": 45,
     "metadata": {},
     "output_type": "execute_result"
    }
   ],
   "source": [
    "type(l[9])"
   ]
  },
  {
   "cell_type": "code",
   "execution_count": 1,
   "id": "9d549e01-e020-4f52-9705-fd3e423a5e21",
   "metadata": {
    "tags": []
   },
   "outputs": [
    {
     "name": "stdout",
     "output_type": "stream",
     "text": [
      "4\n"
     ]
    }
   ],
   "source": [
    "a=20 \n",
    "b=5 \n",
    "if a>b :  \n",
    "    print(20//5)"
   ]
  },
  {
   "cell_type": "code",
   "execution_count": 5,
   "id": "163f0bfb-00ea-4bc9-af91-5e117573ea0e",
   "metadata": {
    "tags": []
   },
   "outputs": [
    {
     "name": "stdout",
     "output_type": "stream",
     "text": [
      "3\n",
      "6\n",
      "78\n",
      "9\n",
      "87\n",
      "3\n",
      "6\n",
      "45\n",
      "87\n"
     ]
    }
   ],
   "source": [
    "list=[1,2,3,4,5,6,7,78,8,9,87,656,5,44,3,6,7,788,899,32,45,67,56,76,87]  \n",
    "for i in list: \n",
    "    if i%3==0: \n",
    "        print(i)"
   ]
  },
  {
   "cell_type": "code",
   "execution_count": 8,
   "id": "708c67bd-f7dd-46b1-9aec-24a2d386cdda",
   "metadata": {
    "tags": []
   },
   "outputs": [],
   "source": [
    "# whose value can be modified is mutable \n",
    "list=[23,546,'saurabh'] \n",
    "set={23123,4545,\"python\"}"
   ]
  },
  {
   "cell_type": "code",
   "execution_count": 9,
   "id": "b6ba9819-1043-4998-be19-e6d9e4b24b22",
   "metadata": {
    "tags": []
   },
   "outputs": [],
   "source": [
    "# whose value can't be modified ic immutable\n",
    "str='python'"
   ]
  },
  {
   "cell_type": "code",
   "execution_count": null,
   "id": "e4d1f0a4-675a-42ce-a90b-046d4940a339",
   "metadata": {},
   "outputs": [],
   "source": []
  }
 ],
 "metadata": {
  "kernelspec": {
   "display_name": "Python 3 (ipykernel)",
   "language": "python",
   "name": "python3"
  },
  "language_info": {
   "codemirror_mode": {
    "name": "ipython",
    "version": 3
   },
   "file_extension": ".py",
   "mimetype": "text/x-python",
   "name": "python",
   "nbconvert_exporter": "python",
   "pygments_lexer": "ipython3",
   "version": "3.11.5"
  }
 },
 "nbformat": 4,
 "nbformat_minor": 5
}
